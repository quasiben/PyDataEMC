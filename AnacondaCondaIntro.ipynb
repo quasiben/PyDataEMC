{
 "metadata": {
  "celltoolbar": "Slideshow",
  "name": "",
  "signature": "sha256:b7682548764420e541af73ad46b572d96878d108a1b5301a72ac374a3773c738"
 },
 "nbformat": 3,
 "nbformat_minor": 0,
 "worksheets": [
  {
   "cells": [
    {
     "cell_type": "markdown",
     "metadata": {
      "slideshow": {
       "slide_type": "slide"
      }
     },
     "source": [
      "##Anaconda\n",
      "\n",
      "Completely free Python distribution for large-scale data processing, predictive analytics, and scientific computing:\n",
      "\n",
      "- 130+ of the most popular Python packages for science, math, engineering, data analysis\n",
      "- Completely free - including for commercial use and even redistribution\n",
      "- Cross platform on Linux, Windows, Mac\n",
      "- Zipped Windows executable files for those behind firewalls\n",
      "\n",
      "Miniconda available for small footprint installs -- contains conda and Python \n",
      "\n",
      "Download at [http://continuum.io](http://continuum.io)"
     ]
    },
    {
     "cell_type": "markdown",
     "metadata": {
      "slideshow": {
       "slide_type": "slide"
      }
     },
     "source": [
      "##Important Pkgs:\n",
      "\n",
      "- NumPy\n",
      "- SciPy\n",
      "- Pandas\n",
      "- Numba\n",
      "- PyODBC\n",
      "- SQL \n",
      "- Matplotlib\n",
      "- Bokeh\n",
      "- llvm\n",
      "- curl\n",
      "- Spyder\n",
      "- **ipython**\n",
      "- **ipython notebook**\n",
      "- ...\n",
      "\n",
      "The official conda repository contains 200+ unique pkgs"
     ]
    },
    {
     "cell_type": "markdown",
     "metadata": {
      "slideshow": {
       "slide_type": "slide"
      }
     },
     "source": [
      "##Installing Anaconda\n",
      "\n",
      "    $ bash Anaconda-1.x.x-Linux-x86[_64].sh\n",
      "\n",
      "click on downloaded dmg/exe and follow instructions\n",
      "\n",
      "Anaconda installs in a single directory and **does not overwrite pre-existing Python environments**."
     ]
    },
    {
     "cell_type": "markdown",
     "metadata": {
      "slideshow": {
       "slide_type": "slide"
      }
     },
     "source": [
      "With anaconda installed you are now ready to tackle the problem at hand...\n",
      "\n",
      "Launch an ipython notebook\n",
      "\n",
      "    $ ipython notebook\n",
      "    #or\n",
      "    C:/>ipython notebook"
     ]
    },
    {
     "cell_type": "markdown",
     "metadata": {
      "slideshow": {
       "slide_type": "slide"
      }
     },
     "source": [
      "##Advanced Features\n",
      "\n",
      "- environment managment\n",
      "- pkg management\n",
      "- pkg building\n",
      "    "
     ]
    },
    {
     "cell_type": "markdown",
     "metadata": {
      "slideshow": {
       "slide_type": "slide"
      }
     },
     "source": [
      "##Important distinction:\n",
      "    \n",
      "\n",
      "- **Anaconda** is really just a meta-package of pre-defined libraries, modules, and binaries \n",
      " - A flavor of Python (like a flavor of Linux)\n",
      " - Anaconda 1.9.1 (the latest) is the current release and includes latest updates to NumPy, Scipy, etc.\n",
      "  \n",
      "- **Conda** is a cross-platform, Python-agnostic binary package manager."
     ]
    },
    {
     "cell_type": "markdown",
     "metadata": {
      "slideshow": {
       "slide_type": "slide"
      }
     },
     "source": [
      "##The Problem\n",
      "\n",
      "- Packaging is extremely important!\n",
      " - Developers know the pain \n",
      " - Users can and *should* be oblivously to the problem\n",
      "- Binaries are hard to produce \n",
      "- Binaries are hard to produce for all platforms\n",
      "- Binaries are hard to produce for all platforms for multiple versions\n"
     ]
    },
    {
     "cell_type": "markdown",
     "metadata": {
      "slideshow": {
       "slide_type": "slide"
      }
     },
     "source": [
      "<center>\n",
      "![NumPy Dependency Stack](./NumPy_Deps.png \"NumPy Dependency Stack\")\n",
      "</center>"
     ]
    },
    {
     "cell_type": "markdown",
     "metadata": {
      "slideshow": {
       "slide_type": "slide"
      }
     },
     "source": [
      "##System Packaging\n",
      "\n",
      "- Windows \n",
      " - Conda ?\n",
      "- OSX\n",
      " - macports\n",
      " - homebrew\n",
      "- Linux\n",
      " - yum\n",
      " - apt-get/aptitude\n",
      " \n",
      "**Again, Conda is cross-platform**.  "
     ]
    },
    {
     "cell_type": "markdown",
     "metadata": {
      "slideshow": {
       "slide_type": "slide"
      }
     },
     "source": [
      "##The Python Problem\n",
      "\n",
      "- Python 3.x/Py3k breaks backwards compatibilty with Python 2.7\n",
      "- PEP 404: \"There never will be an official Python 2.8 release. It is an ex-release. Python 2.7 is the end of the Python 2 line of development.\"\n",
      "- How to install multiple Python versions?\n",
      "\n"
     ]
    },
    {
     "cell_type": "markdown",
     "metadata": {
      "slideshow": {
       "slide_type": "slide"
      }
     },
     "source": [
      "##CONDA!"
     ]
    },
    {
     "cell_type": "markdown",
     "metadata": {
      "slideshow": {
       "slide_type": "slide"
      }
     },
     "source": [
      "##Conda Create\n",
      "\n",
      "- Conda solves dependency issues for you automatically\n",
      "- Creates a new environment with packages or metapackages defined\n",
      "- Environments are entirely self-contained Python runtime layouts\n"
     ]
    },
    {
     "cell_type": "markdown",
     "metadata": {
      "slideshow": {
       "slide_type": "fragment"
      }
     },
     "source": [
      "Anaconda with Python 3.3\n",
      "```\n",
      "    $ conda create -n py3k python=3.3 anaconda=1.9\n",
      "    $ source activate py3k\n",
      "    #on windows\n",
      "    C:> activate py3k\n",
      "```"
     ]
    },
    {
     "cell_type": "markdown",
     "metadata": {
      "slideshow": {
       "slide_type": "fragment"
      }
     },
     "source": [
      "Minimalist Environment\n",
      "\n",
      "```\n",
      "    $ conda create -n tinyp27 python=2.7\n",
      "    $ source activate tinyp27\n",
      "    #on windows\n",
      "    C:> activate tinyp27\n",
      "```"
     ]
    },
    {
     "cell_type": "markdown",
     "metadata": {
      "slideshow": {
       "slide_type": "slide"
      }
     },
     "source": [
      "## Conda subcommands\n",
      "\n",
      "- conda --help\n",
      " - Help :)\n",
      "- conda info\n",
      " - Information about conda setup\n",
      "- conda list \n",
      " - List packages in current conda env\n",
      "- conda search \n",
      " - Find packages in conda repository"
     ]
    },
    {
     "cell_type": "markdown",
     "metadata": {},
     "source": [
      "##Almost forgot\n",
      "\n",
      "- conda update `<pkg/metapkg>`\n",
      "- conda update conda\n",
      "- conda update anaconda"
     ]
    },
    {
     "cell_type": "markdown",
     "metadata": {
      "slideshow": {
       "slide_type": "slide"
      }
     },
     "source": [
      "##Conda Build/Binstar\n",
      "\n",
      "- Nice recipe defintions\n",
      "- Designed for cross-platform build\n",
      "- Hosted Binaries and CI with Binstar\n",
      "- For another time..."
     ]
    },
    {
     "cell_type": "code",
     "collapsed": false,
     "input": [],
     "language": "python",
     "metadata": {},
     "outputs": []
    }
   ],
   "metadata": {}
  }
 ]
}